{
 "cells": [
  {
   "cell_type": "code",
   "execution_count": 7,
   "metadata": {},
   "outputs": [],
   "source": [
    "import cv2\n",
    "import numpy as np\n",
    "import os\n",
    "import subprocess\n",
    "import torch\n",
    "import torch.nn as nn"
   ]
  },
  {
   "cell_type": "code",
   "execution_count": 6,
   "metadata": {},
   "outputs": [],
   "source": [
    "# Set the URLs for the YOLO files\n",
    "yolo_config_url = 'https://raw.githubusercontent.com/pjreddie/darknet/master/cfg/yolov3.cfg'\n",
    "yolo_weights_url = 'https://pjreddie.com/media/files/yolov3.weights'\n",
    "yolo_labels_url = 'https://raw.githubusercontent.com/pjreddie/darknet/master/data/coco.names'\n",
    "\n",
    "# Set the paths to save the YOLO files\n",
    "yolo_config  = 'yolo_files/yolo.cfg'\n",
    "yolo_weights = 'yolo_files/yolo.weights'\n",
    "yolo_labels  = 'yolo_files/yolo.names'\n",
    "\n",
    "# # Download the YOLO files if they do not exist\n",
    "# if not os.path.exists(yolo_config):\n",
    "#     subprocess.run(['curl', '-o', yolo_config, yolo_config_url])\n",
    "# if not os.path.exists(yolo_weights):\n",
    "#     subprocess.run(['curl', '-o', yolo_weights, yolo_weights_url])\n",
    "# if not os.path.exists(yolo_labels):\n",
    "#     subprocess.run(['curl', '-o', yolo_labels, yolo_labels_url])\n"
   ]
  },
  {
   "cell_type": "code",
   "execution_count": 16,
   "metadata": {},
   "outputs": [
    {
     "ename": "IndexError",
     "evalue": "invalid index to scalar variable.",
     "output_type": "error",
     "traceback": [
      "\u001b[0;31m---------------------------------------------------------------------------\u001b[0m",
      "\u001b[0;31mIndexError\u001b[0m                                Traceback (most recent call last)",
      "Cell \u001b[0;32mIn[16], line 4\u001b[0m\n\u001b[1;32m      2\u001b[0m net \u001b[39m=\u001b[39m cv2\u001b[39m.\u001b[39mdnn\u001b[39m.\u001b[39mreadNetFromDarknet(yolo_config, yolo_weights)\n\u001b[1;32m      3\u001b[0m layer_names \u001b[39m=\u001b[39m net\u001b[39m.\u001b[39mgetLayerNames()\n\u001b[0;32m----> 4\u001b[0m output_layers \u001b[39m=\u001b[39m [layer_names[i[\u001b[39m0\u001b[39m] \u001b[39m-\u001b[39m \u001b[39m1\u001b[39m] \u001b[39mfor\u001b[39;00m i \u001b[39min\u001b[39;00m net\u001b[39m.\u001b[39mgetUnconnectedOutLayers()]\n\u001b[1;32m      6\u001b[0m \u001b[39m# Load class labels\u001b[39;00m\n\u001b[1;32m      7\u001b[0m \u001b[39mwith\u001b[39;00m \u001b[39mopen\u001b[39m(yolo_labels, \u001b[39m'\u001b[39m\u001b[39mr\u001b[39m\u001b[39m'\u001b[39m) \u001b[39mas\u001b[39;00m f:\n",
      "Cell \u001b[0;32mIn[16], line 4\u001b[0m, in \u001b[0;36m<listcomp>\u001b[0;34m(.0)\u001b[0m\n\u001b[1;32m      2\u001b[0m net \u001b[39m=\u001b[39m cv2\u001b[39m.\u001b[39mdnn\u001b[39m.\u001b[39mreadNetFromDarknet(yolo_config, yolo_weights)\n\u001b[1;32m      3\u001b[0m layer_names \u001b[39m=\u001b[39m net\u001b[39m.\u001b[39mgetLayerNames()\n\u001b[0;32m----> 4\u001b[0m output_layers \u001b[39m=\u001b[39m [layer_names[i[\u001b[39m0\u001b[39;49m] \u001b[39m-\u001b[39m \u001b[39m1\u001b[39m] \u001b[39mfor\u001b[39;00m i \u001b[39min\u001b[39;00m net\u001b[39m.\u001b[39mgetUnconnectedOutLayers()]\n\u001b[1;32m      6\u001b[0m \u001b[39m# Load class labels\u001b[39;00m\n\u001b[1;32m      7\u001b[0m \u001b[39mwith\u001b[39;00m \u001b[39mopen\u001b[39m(yolo_labels, \u001b[39m'\u001b[39m\u001b[39mr\u001b[39m\u001b[39m'\u001b[39m) \u001b[39mas\u001b[39;00m f:\n",
      "\u001b[0;31mIndexError\u001b[0m: invalid index to scalar variable."
     ]
    }
   ],
   "source": [
    "# Load YOLO model\n",
    "net = cv2.dnn.readNetFromDarknet(yolo_config, yolo_weights)\n",
    "layer_names = net.getLayerNames()\n",
    "output_layers = [layer_names[i[0] - 1] for i in net.getUnconnectedOutLayers()]\n",
    "\n",
    "# Load class labels\n",
    "with open(yolo_labels, 'r') as f:\n",
    "    classes = [line.strip() for line in f.readlines()]\n"
   ]
  },
  {
   "cell_type": "code",
   "execution_count": null,
   "metadata": {},
   "outputs": [],
   "source": [
    "# Path to your dataset\n",
    "dataset_path = 'yolo_images/Face_Data/Face_Dataset/0'\n",
    "\n",
    "# Loop over images in the dataset folder\n",
    "for root, dirs, files in os.walk(dataset_path):\n",
    "    for file in files:\n",
    "        image_path = os.path.join(root, file)\n",
    "        image = cv2.imread(image_path)\n",
    "\n",
    "        # Perform face detection\n",
    "        blob = cv2.dnn.blobFromImage(image, 0.00392, (416, 416), swapRB=True, crop=False)\n",
    "        net.setInput(blob)\n",
    "        outs = net.forward(output_layers)\n",
    "\n",
    "        # Process the detections\n",
    "        for out in outs:\n",
    "            for detection in out:\n",
    "                scores = detection[5:]\n",
    "                class_id = np.argmax(scores)\n",
    "                confidence = scores[class_id]\n",
    "\n",
    "                # If the detected class is \"face\" and confidence is high enough\n",
    "                if classes[class_id] == 'face' and confidence > 0.5:\n",
    "                    # Extract the bounding box coordinates\n",
    "                    center_x = int(detection[0] * image.shape[1])\n",
    "                    center_y = int(detection[1] * image.shape[0])\n",
    "                    width = int(detection[2] * image.shape[1])\n",
    "                    height = int(detection[3] * image.shape[0])\n",
    "\n",
    "                    # Draw the bounding box on the image\n",
    "                    x = int(center_x - width / 2)\n",
    "                    y = int(center_y - height / 2)\n",
    "                    cv2.rectangle(image, (x, y), (x + width, y + height), (0, 255, 0), 2)\n",
    "\n",
    "        # Display the image with detected faces\n",
    "        cv2.imshow('Face Detection', image)\n",
    "        cv2.waitKey(0)\n",
    "\n",
    "cv2.destroyAllWindows()"
   ]
  }
 ],
 "metadata": {
  "kernelspec": {
   "display_name": "nlp",
   "language": "python",
   "name": "python3"
  },
  "language_info": {
   "codemirror_mode": {
    "name": "ipython",
    "version": 3
   },
   "file_extension": ".py",
   "mimetype": "text/x-python",
   "name": "python",
   "nbconvert_exporter": "python",
   "pygments_lexer": "ipython3",
   "version": "3.10.11"
  },
  "orig_nbformat": 4
 },
 "nbformat": 4,
 "nbformat_minor": 2
}
